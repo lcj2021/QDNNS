{
 "cells": [
  {
   "cell_type": "code",
   "execution_count": 27,
   "metadata": {},
   "outputs": [
    {
     "name": "stdout",
     "output_type": "stream",
     "text": [
      "500000 500000\n",
      "321 24246\n",
      "871 [-8.5430491e-01 -8.5071373e-01 -8.5056353e-01 -8.4821516e-01\n",
      " -8.4599900e-01 -8.4538597e-01 -8.4333915e-01 -8.4013999e-01\n",
      " -8.3822089e-01 -8.3793211e-01 -8.3558786e-01 -8.3511281e-01\n",
      " -8.3490831e-01 -8.3473575e-01 -8.3467233e-01 -8.3397418e-01\n",
      " -8.3343142e-01 -8.3315831e-01 -8.3297735e-01 -8.3287156e-01\n",
      " -8.3206666e-01 -8.3156210e-01 -8.3071870e-01 -8.2865310e-01\n",
      " -8.2659066e-01 -8.2615113e-01 -8.2499981e-01 -8.2492775e-01\n",
      " -8.2409054e-01 -8.2267576e-01 -8.2155603e-01 -8.2049274e-01\n",
      " -8.1946540e-01 -8.1784326e-01 -8.1727862e-01 -8.1635970e-01\n",
      " -8.1612062e-01 -8.1509721e-01 -8.1509721e-01 -8.1497860e-01\n",
      " -8.1490821e-01 -8.1400961e-01 -8.1354237e-01 -8.1332815e-01\n",
      " -8.1126249e-01 -8.1050062e-01 -8.1047726e-01 -8.1033278e-01\n",
      " -8.0997419e-01 -8.0947053e-01 -8.0879617e-01 -8.0855173e-01\n",
      " -8.0521303e-01 -8.0440605e-01 -8.0389684e-01 -8.0183649e-01\n",
      " -8.0156881e-01 -8.0104458e-01 -8.0022448e-01 -7.9988617e-01\n",
      " -7.9969132e-01 -7.9943085e-01 -7.9849017e-01 -7.9786634e-01\n",
      " -7.9733682e-01 -7.9732561e-01 -7.9617661e-01 -7.9606640e-01\n",
      " -7.9530048e-01 -7.9456544e-01 -7.9411721e-01 -7.9344696e-01\n",
      " -7.9333436e-01 -7.9211676e-01 -7.9204023e-01 -7.9203939e-01\n",
      " -7.9155415e-01 -7.9124695e-01 -7.8995430e-01 -7.8836733e-01\n",
      " -7.8834820e-01 -7.8782862e-01 -7.8771198e-01 -7.8709418e-01\n",
      " -7.8665501e-01 -7.8588319e-01 -7.8566778e-01 -7.8527057e-01\n",
      " -7.8484368e-01 -7.8475118e-01 -7.8412420e-01 -7.8402698e-01\n",
      " -7.8392100e-01 -7.8381169e-01 -7.8340036e-01 -7.8338933e-01\n",
      " -7.8271091e-01 -7.8265858e-01  1.8810000e+03  5.5900000e+02\n",
      "  1.5580000e+03]\n"
     ]
    }
   ],
   "source": [
    "import lightgbm as lgb\n",
    "import numpy as np\n",
    "from binary_io import *\n",
    "\n",
    "dataset = 'gist1m'\n",
    "dataset = 'wikipedia'\n",
    "dataset = 'imagenet'\n",
    "M = 64\n",
    "efc = 1000\n",
    "efs = 1000\n",
    "ck_ts = 2000\n",
    "k = 10\n",
    "\n",
    "# prefix = '/dk/lcj_rag/ANNS/test/'\n",
    "data_prefix = '../../Bert-ANNS/data/'\n",
    "prefix = f'{dataset}.M_{M}.efc_{efc}.efs_{efs}.ck_ts_{ck_ts}.ncheck_100.recall@{k}'\n",
    "\n",
    "train_feature = fvecs_read(f'{data_prefix}{prefix}.train_feats_nn.fvecs')\n",
    "train_label = ivecs_read(f'{data_prefix}{prefix}.train_label.ivecs')[:, 0]\n",
    "test_feature = fvecs_read(f'{data_prefix}{prefix}.test_feats_nn.fvecs')\n",
    "test_label = ivecs_read(f'{data_prefix}{prefix}.test_label.ivecs')[:, 0]\n",
    "\n",
    "# train_feature = train_feature[:, -100:]\n",
    "# test_feature = test_feature[:, -100:]\n",
    "print(len(train_feature), len(train_label))\n",
    "print(np.sum(test_label), np.sum(train_label))\n",
    "print(len(train_feature[0]), train_feature[0][-101:])"
   ]
  },
  {
   "cell_type": "code",
   "execution_count": 28,
   "metadata": {},
   "outputs": [],
   "source": [
    "params = {\n",
    "    'boosting_type': 'gbdt',    # 使用 GBDT 算法\n",
    "    'objective': 'binary',  # 二分类任务\n",
    "    'metric': 'binary_logloss',            # 使用 binary_logloss 作为评估指标\n",
    "    'learning_rate': 0.05,       # 学习率\n",
    "    'num_boost_round': 3000,     # 提升迭代的轮数\n",
    "    'verbose': 1,               # 控制处理信息的详细程度\n",
    "    'num_threads': 128           # 设置线程数\n",
    "}"
   ]
  },
  {
   "cell_type": "code",
   "execution_count": 29,
   "metadata": {},
   "outputs": [
    {
     "name": "stderr",
     "output_type": "stream",
     "text": [
      "/home/zhengweiguo/miniconda3/envs/lcj_bert/lib/python3.12/site-packages/lightgbm/engine.py:204: UserWarning: Found `num_boost_round` in params. Will use it instead of argument\n",
      "  _log_warning(f\"Found `{alias}` in params. Will use it instead of argument\")\n"
     ]
    },
    {
     "name": "stdout",
     "output_type": "stream",
     "text": [
      "[LightGBM] [Info] Number of positive: 24246, number of negative: 475754\n",
      "[LightGBM] [Info] Auto-choosing col-wise multi-threading, the overhead of testing was 0.152449 seconds.\n",
      "You can set `force_col_wise=true` to remove the overhead.\n",
      "[LightGBM] [Info] Total Bins 222090\n",
      "[LightGBM] [Info] Number of data points in the train set: 500000, number of used features: 871\n",
      "[LightGBM] [Info] [binary:BoostFromScore]: pavg=0.048492 -> initscore=-2.976649\n",
      "[LightGBM] [Info] Start training from score -2.976649\n"
     ]
    }
   ],
   "source": [
    "gbm = lgb.train(params, lgb.Dataset(train_feature, label=train_label))"
   ]
  },
  {
   "cell_type": "code",
   "execution_count": 30,
   "metadata": {},
   "outputs": [
    {
     "name": "stdout",
     "output_type": "stream",
     "text": [
      "Area Under the Curve (AUC): 0.8243146417445484\n",
      "0%->bruteforce | predict recall: 0.000000 | overall recall: 0.996790\n",
      "2%->bruteforce | predict recall: 0.202492 | overall recall: 0.997440\n",
      "4%->bruteforce | predict recall: 0.286604 | overall recall: 0.997710\n",
      "6%->bruteforce | predict recall: 0.389408 | overall recall: 0.998040\n",
      "8%->bruteforce | predict recall: 0.442368 | overall recall: 0.998210\n",
      "10%->bruteforce | predict recall: 0.495327 | overall recall: 0.998380\n",
      "12%->bruteforce | predict recall: 0.560748 | overall recall: 0.998590\n",
      "14%->bruteforce | predict recall: 0.601246 | overall recall: 0.998720\n",
      "16%->bruteforce | predict recall: 0.629283 | overall recall: 0.998810\n",
      "18%->bruteforce | predict recall: 0.651090 | overall recall: 0.998880\n",
      "20%->bruteforce | predict recall: 0.691589 | overall recall: 0.999010\n",
      "22%->bruteforce | predict recall: 0.707165 | overall recall: 0.999060\n",
      "24%->bruteforce | predict recall: 0.735202 | overall recall: 0.999150\n",
      "26%->bruteforce | predict recall: 0.769470 | overall recall: 0.999260\n",
      "28%->bruteforce | predict recall: 0.788162 | overall recall: 0.999320\n",
      "30%->bruteforce | predict recall: 0.797508 | overall recall: 0.999350\n",
      "32%->bruteforce | predict recall: 0.816199 | overall recall: 0.999410\n",
      "34%->bruteforce | predict recall: 0.834891 | overall recall: 0.999470\n",
      "36%->bruteforce | predict recall: 0.853583 | overall recall: 0.999530\n",
      "38%->bruteforce | predict recall: 0.866044 | overall recall: 0.999570\n",
      "40%->bruteforce | predict recall: 0.875389 | overall recall: 0.999600\n",
      "42%->bruteforce | predict recall: 0.890966 | overall recall: 0.999650\n",
      "44%->bruteforce | predict recall: 0.894081 | overall recall: 0.999660\n",
      "46%->bruteforce | predict recall: 0.897196 | overall recall: 0.999670\n",
      "48%->bruteforce | predict recall: 0.903427 | overall recall: 0.999690\n",
      "50%->bruteforce | predict recall: 0.909657 | overall recall: 0.999710\n",
      "52%->bruteforce | predict recall: 0.912773 | overall recall: 0.999720\n",
      "54%->bruteforce | predict recall: 0.922118 | overall recall: 0.999750\n",
      "56%->bruteforce | predict recall: 0.928349 | overall recall: 0.999770\n",
      "58%->bruteforce | predict recall: 0.943925 | overall recall: 0.999820\n",
      "60%->bruteforce | predict recall: 0.943925 | overall recall: 0.999820\n",
      "62%->bruteforce | predict recall: 0.950156 | overall recall: 0.999840\n",
      "64%->bruteforce | predict recall: 0.956386 | overall recall: 0.999860\n",
      "66%->bruteforce | predict recall: 0.962617 | overall recall: 0.999880\n",
      "68%->bruteforce | predict recall: 0.965732 | overall recall: 0.999890\n",
      "70%->bruteforce | predict recall: 0.965732 | overall recall: 0.999890\n",
      "72%->bruteforce | predict recall: 0.968847 | overall recall: 0.999900\n",
      "74%->bruteforce | predict recall: 0.971963 | overall recall: 0.999910\n",
      "76%->bruteforce | predict recall: 0.971963 | overall recall: 0.999910\n",
      "78%->bruteforce | predict recall: 0.978193 | overall recall: 0.999930\n",
      "80%->bruteforce | predict recall: 0.978193 | overall recall: 0.999930\n",
      "82%->bruteforce | predict recall: 0.978193 | overall recall: 0.999930\n",
      "84%->bruteforce | predict recall: 0.978193 | overall recall: 0.999930\n",
      "86%->bruteforce | predict recall: 0.984424 | overall recall: 0.999950\n",
      "88%->bruteforce | predict recall: 0.984424 | overall recall: 0.999950\n",
      "90%->bruteforce | predict recall: 0.987539 | overall recall: 0.999960\n",
      "92%->bruteforce | predict recall: 0.990654 | overall recall: 0.999970\n",
      "94%->bruteforce | predict recall: 0.990654 | overall recall: 0.999970\n",
      "96%->bruteforce | predict recall: 0.993769 | overall recall: 0.999980\n",
      "98%->bruteforce | predict recall: 0.993769 | overall recall: 0.999980\n",
      "100%->bruteforce | predict recall: 1.000000 | overall recall: 1.000000\n"
     ]
    },
    {
     "data": {
      "image/png": "[encoded data removed]",
      "text/plain": [
       "<Figure size 640x480 with 1 Axes>"
      ]
     },
     "metadata": {},
     "output_type": "display_data"
    }
   ],
   "source": [
    "from sklearn.metrics import recall_score\n",
    "import time\n",
    "start = time.time()\n",
    "label_pred = gbm.predict(test_feature)\n",
    "end = time.time()\n",
    "\n",
    "import numpy as np\n",
    "from sklearn.metrics import recall_score\n",
    "import matplotlib.pyplot as plt\n",
    "from scipy.integrate import trapezoid as trapz\n",
    "\n",
    "def recall_curve(test_label, label_pred):\n",
    "    n = len(label_pred)\n",
    "    recalls = []\n",
    "    percentages = np.arange(0, 1.01, 0.01)  # 从0%到100%，步长为1%\n",
    "    for p in percentages:\n",
    "        threshold = np.percentile(label_pred, 100 * (1 - p))\n",
    "        if p==0: threshold += 1\n",
    "        new_label_pred = np.where(label_pred >= threshold, 1, 0)\n",
    "        recall = recall_score(test_label, new_label_pred)\n",
    "        recalls.append(recall)\n",
    "    return percentages, recalls\n",
    "\n",
    "percentages, recalls = recall_curve(test_label, label_pred)\n",
    "auc = trapz(recalls, percentages)\n",
    "print(\"Area Under the Curve (AUC):\", auc)\n",
    "\n",
    "total_true_label = np.sum(test_label)\n",
    "step = 2\n",
    "for p in range(0, 100 + step, step):\n",
    "    fail = total_true_label * (1 - recalls[p])\n",
    "    success = len(test_label) - fail\n",
    "    overall_recall = (success * 1.000 + fail * 0.90) / len(test_label)\n",
    "    print(f'{p}%->bruteforce | predict recall: {recalls[p]:4f} | overall recall: {overall_recall:6f}')\n",
    "\n",
    "plt.plot(percentages, recalls)\n",
    "plt.xlabel(\"Top percentage of positive examples selected (GPU Budget)\")\n",
    "plt.ylabel(\"Recall\")\n",
    "\n",
    "plt.title(f'{dataset}.M_{M}.efc_{efc}.efs_{efs}.ck_ts_{ck_ts}.ncheck_100.recall@{k}')\n",
    "plt.savefig(f'{dataset}.M_{M}.efc_{efc}.efs_{efs}.ck_ts_{ck_ts}.ncheck_100.recall@{k}.png')\n",
    "plt.show()\n",
    "\n",
    "# recall = recall_score(test_label, label_pred.round())\n",
    "# print(\"Recall:\", recall)"
   ]
  }
 ],
 "metadata": {
  "kernelspec": {
   "display_name": "lcj-gp",
   "language": "python",
   "name": "python3"
  },
  "language_info": {
   "codemirror_mode": {
    "name": "ipython",
    "version": 3
   },
   "file_extension": ".py",
   "mimetype": "text/x-python",
   "name": "python",
   "nbconvert_exporter": "python",
   "pygments_lexer": "ipython3",
   "version": "3.12.6"
  }
 },
 "nbformat": 4,
 "nbformat_minor": 2
}
