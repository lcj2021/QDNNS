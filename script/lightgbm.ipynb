{
 "cells": [
  {
   "cell_type": "code",
   "execution_count": 4,
   "metadata": {},
   "outputs": [
    {
     "name": "stdout",
     "output_type": "stream",
     "text": [
      "500000 500000\n",
      "11 3665\n",
      "1063 [1.2181722e+00 1.2243316e+00 1.2327800e+00 1.2438024e+00 1.2438416e+00\n",
      " 1.2441821e+00 1.2452942e+00 1.2465439e+00 1.2544835e+00 1.2642384e+00\n",
      " 1.2652555e+00 1.2669389e+00 1.2714139e+00 1.2723000e+00 1.2733494e+00\n",
      " 1.2765998e+00 1.2780159e+00 1.2799301e+00 1.2815521e+00 1.2843854e+00\n",
      " 1.2858818e+00 1.2866589e+00 1.2893658e+00 1.2905846e+00 1.2905972e+00\n",
      " 1.2910478e+00 1.2915183e+00 1.2958870e+00 1.2994473e+00 1.3011293e+00\n",
      " 1.3024429e+00 1.3034072e+00 1.3068814e+00 1.3073915e+00 1.3076603e+00\n",
      " 1.3085535e+00 1.3096418e+00 1.3103490e+00 1.3104122e+00 1.3109767e+00\n",
      " 1.3119597e+00 1.3128798e+00 1.3129383e+00 1.3181310e+00 1.3182509e+00\n",
      " 1.3187566e+00 1.3200315e+00 1.3209324e+00 1.3209426e+00 1.3218732e+00\n",
      " 1.3225029e+00 1.3235981e+00 1.3236032e+00 1.3268554e+00 1.3268692e+00\n",
      " 1.3269725e+00 1.3283193e+00 1.3286076e+00 1.3305669e+00 1.3312529e+00\n",
      " 1.3318822e+00 1.3328009e+00 1.3336062e+00 1.3343492e+00 1.3357062e+00\n",
      " 1.3369205e+00 1.3370645e+00 1.3374552e+00 1.3375278e+00 1.3382692e+00\n",
      " 1.3383794e+00 1.3389692e+00 1.3394656e+00 1.3400608e+00 1.3408535e+00\n",
      " 1.3413869e+00 1.3413992e+00 1.3418629e+00 1.3422883e+00 1.3430459e+00\n",
      " 1.3437414e+00 1.3449273e+00 1.3461814e+00 1.3465791e+00 1.3487058e+00\n",
      " 1.3489385e+00 1.3496699e+00 1.3502066e+00 1.3509257e+00 1.3510630e+00\n",
      " 1.3517163e+00 1.3522427e+00 1.3523885e+00 1.3523885e+00 1.3526015e+00\n",
      " 1.3526378e+00 1.3528612e+00 1.3537089e+00 1.9680000e+03 6.7600000e+02\n",
      " 1.6750000e+03]\n"
     ]
    }
   ],
   "source": [
    "import lightgbm as lgb\n",
    "import numpy as np\n",
    "from binary_io import *\n",
    "\n",
    "dataset = 'imagenet'\n",
    "dataset = 'wikipedia'\n",
    "dataset = 'gist1m'\n",
    "M = 128\n",
    "efc = 1000\n",
    "efs = 1000\n",
    "ck_ts = 2000\n",
    "k = 10\n",
    "\n",
    "# prefix = '/dk/lcj_rag/ANNS/test/'\n",
    "data_prefix = '../Bert-ANNS/data/'\n",
    "prefix = f'{dataset}.M_{M}.efc_{efc}.efs_{efs}.ck_ts_{ck_ts}.ncheck_100.recall@{k}'\n",
    "\n",
    "train_feature = fvecs_read(f'{data_prefix}{prefix}.train_feats_nn.fvecs')\n",
    "train_label = ivecs_read(f'{data_prefix}{prefix}.train_label.ivecs')[:, 0]\n",
    "test_feature = fvecs_read(f'{data_prefix}{prefix}.test_feats_nn.fvecs')\n",
    "test_label = ivecs_read(f'{data_prefix}{prefix}.test_label.ivecs')[:, 0]\n",
    "\n",
    "# train_feature = train_feature[:, -100:]\n",
    "# test_feature = test_feature[:, -100:]\n",
    "print(len(train_feature), len(train_label))\n",
    "print(np.sum(test_label), np.sum(train_label))\n",
    "print(len(train_feature[0]), train_feature[0][-101:])"
   ]
  },
  {
   "cell_type": "code",
   "execution_count": 5,
   "metadata": {},
   "outputs": [],
   "source": [
    "params = {\n",
    "    'boosting_type': 'gbdt',    # 使用 GBDT 算法\n",
    "    'objective': 'binary',  # 二分类任务\n",
    "    'metric': 'binary_logloss',            # 使用 binary_logloss 作为评估指标\n",
    "    'learning_rate': 0.05,       # 学习率\n",
    "    'num_boost_round': 3000,     # 提升迭代的轮数\n",
    "    'verbose': 1,               # 控制处理信息的详细程度\n",
    "    'num_threads': 128           # 设置线程数\n",
    "}"
   ]
  },
  {
   "cell_type": "code",
   "execution_count": 6,
   "metadata": {},
   "outputs": [
    {
     "name": "stderr",
     "output_type": "stream",
     "text": [
      "/home/zhengweiguo/miniconda3/envs/lcj_bert/lib/python3.12/site-packages/lightgbm/engine.py:204: UserWarning: Found `num_boost_round` in params. Will use it instead of argument\n",
      "  _log_warning(f\"Found `{alias}` in params. Will use it instead of argument\")\n"
     ]
    },
    {
     "name": "stdout",
     "output_type": "stream",
     "text": [
      "[LightGBM] [Info] Number of positive: 3665, number of negative: 496335\n",
      "[LightGBM] [Info] Auto-choosing col-wise multi-threading, the overhead of testing was 0.230460 seconds.\n",
      "You can set `force_col_wise=true` to remove the overhead.\n",
      "[LightGBM] [Info] Total Bins 271053\n",
      "[LightGBM] [Info] Number of data points in the train set: 500000, number of used features: 1063\n",
      "[LightGBM] [Info] [binary:BoostFromScore]: pavg=0.007330 -> initscore=-4.908423\n",
      "[LightGBM] [Info] Start training from score -4.908423\n"
     ]
    }
   ],
   "source": [
    "gbm = lgb.train(params, lgb.Dataset(train_feature, label=train_label))"
   ]
  },
  {
   "cell_type": "code",
   "execution_count": 7,
   "metadata": {},
   "outputs": [
    {
     "name": "stdout",
     "output_type": "stream",
     "text": [
      "Area Under the Curve (AUC): 0.7022727272727272\n",
      "0%->bruteforce | predict recall: 0.000000 | overall recall: 0.998900\n",
      "2%->bruteforce | predict recall: 0.000000 | overall recall: 0.998900\n",
      "4%->bruteforce | predict recall: 0.181818 | overall recall: 0.999100\n",
      "6%->bruteforce | predict recall: 0.181818 | overall recall: 0.999100\n",
      "8%->bruteforce | predict recall: 0.181818 | overall recall: 0.999100\n",
      "10%->bruteforce | predict recall: 0.181818 | overall recall: 0.999100\n",
      "12%->bruteforce | predict recall: 0.272727 | overall recall: 0.999200\n",
      "14%->bruteforce | predict recall: 0.454545 | overall recall: 0.999400\n",
      "16%->bruteforce | predict recall: 0.454545 | overall recall: 0.999400\n",
      "18%->bruteforce | predict recall: 0.545455 | overall recall: 0.999500\n",
      "20%->bruteforce | predict recall: 0.545455 | overall recall: 0.999500\n",
      "22%->bruteforce | predict recall: 0.545455 | overall recall: 0.999500\n",
      "24%->bruteforce | predict recall: 0.636364 | overall recall: 0.999600\n",
      "26%->bruteforce | predict recall: 0.636364 | overall recall: 0.999600\n",
      "28%->bruteforce | predict recall: 0.636364 | overall recall: 0.999600\n",
      "30%->bruteforce | predict recall: 0.636364 | overall recall: 0.999600\n",
      "32%->bruteforce | predict recall: 0.636364 | overall recall: 0.999600\n",
      "34%->bruteforce | predict recall: 0.636364 | overall recall: 0.999600\n",
      "36%->bruteforce | predict recall: 0.727273 | overall recall: 0.999700\n",
      "38%->bruteforce | predict recall: 0.727273 | overall recall: 0.999700\n",
      "40%->bruteforce | predict recall: 0.727273 | overall recall: 0.999700\n",
      "42%->bruteforce | predict recall: 0.727273 | overall recall: 0.999700\n",
      "44%->bruteforce | predict recall: 0.727273 | overall recall: 0.999700\n",
      "46%->bruteforce | predict recall: 0.727273 | overall recall: 0.999700\n",
      "48%->bruteforce | predict recall: 0.727273 | overall recall: 0.999700\n",
      "50%->bruteforce | predict recall: 0.727273 | overall recall: 0.999700\n",
      "52%->bruteforce | predict recall: 0.727273 | overall recall: 0.999700\n",
      "54%->bruteforce | predict recall: 0.727273 | overall recall: 0.999700\n",
      "56%->bruteforce | predict recall: 0.818182 | overall recall: 0.999800\n",
      "58%->bruteforce | predict recall: 0.818182 | overall recall: 0.999800\n",
      "60%->bruteforce | predict recall: 0.909091 | overall recall: 0.999900\n",
      "62%->bruteforce | predict recall: 0.909091 | overall recall: 0.999900\n",
      "64%->bruteforce | predict recall: 0.909091 | overall recall: 0.999900\n",
      "66%->bruteforce | predict recall: 0.909091 | overall recall: 0.999900\n",
      "68%->bruteforce | predict recall: 0.909091 | overall recall: 0.999900\n",
      "70%->bruteforce | predict recall: 0.909091 | overall recall: 0.999900\n",
      "72%->bruteforce | predict recall: 0.909091 | overall recall: 0.999900\n",
      "74%->bruteforce | predict recall: 0.909091 | overall recall: 0.999900\n",
      "76%->bruteforce | predict recall: 0.909091 | overall recall: 0.999900\n",
      "78%->bruteforce | predict recall: 0.909091 | overall recall: 0.999900\n",
      "80%->bruteforce | predict recall: 0.909091 | overall recall: 0.999900\n",
      "82%->bruteforce | predict recall: 0.909091 | overall recall: 0.999900\n",
      "84%->bruteforce | predict recall: 0.909091 | overall recall: 0.999900\n",
      "86%->bruteforce | predict recall: 0.909091 | overall recall: 0.999900\n",
      "88%->bruteforce | predict recall: 0.909091 | overall recall: 0.999900\n",
      "90%->bruteforce | predict recall: 0.909091 | overall recall: 0.999900\n",
      "92%->bruteforce | predict recall: 0.909091 | overall recall: 0.999900\n",
      "94%->bruteforce | predict recall: 0.909091 | overall recall: 0.999900\n",
      "96%->bruteforce | predict recall: 1.000000 | overall recall: 1.000000\n",
      "98%->bruteforce | predict recall: 1.000000 | overall recall: 1.000000\n",
      "100%->bruteforce | predict recall: 1.000000 | overall recall: 1.000000\n"
     ]
    },
    {
     "data": {
      "image/png": "[encoded data removed]",
      "text/plain": [
       "<Figure size 640x480 with 1 Axes>"
      ]
     },
     "metadata": {},
     "output_type": "display_data"
    }
   ],
   "source": [
    "from sklearn.metrics import recall_score\n",
    "import time\n",
    "start = time.time()\n",
    "label_pred = gbm.predict(test_feature)\n",
    "end = time.time()\n",
    "\n",
    "import numpy as np\n",
    "from sklearn.metrics import recall_score\n",
    "import matplotlib.pyplot as plt\n",
    "from scipy.integrate import trapezoid as trapz\n",
    "\n",
    "def recall_curve(test_label, label_pred):\n",
    "    n = len(label_pred)\n",
    "    recalls = []\n",
    "    percentages = np.arange(0, 1.01, 0.01)  # 从0%到100%，步长为1%\n",
    "    for p in percentages:\n",
    "        threshold = np.percentile(label_pred, 100 * (1 - p))\n",
    "        if p==0: threshold += 1\n",
    "        new_label_pred = np.where(label_pred >= threshold, 1, 0)\n",
    "        recall = recall_score(test_label, new_label_pred)\n",
    "        recalls.append(recall)\n",
    "    return percentages, recalls\n",
    "\n",
    "percentages, recalls = recall_curve(test_label, label_pred)\n",
    "auc = trapz(recalls, percentages)\n",
    "print(\"Area Under the Curve (AUC):\", auc)\n",
    "\n",
    "total_true_label = np.sum(test_label)\n",
    "step = 2\n",
    "for p in range(0, 100 + step, step):\n",
    "    fail = total_true_label * (1 - recalls[p])\n",
    "    success = len(test_label) - fail\n",
    "    overall_recall = (success * 1.000 + fail * 0.90) / len(test_label)\n",
    "    print(f'{p}%->bruteforce | predict recall: {recalls[p]:4f} | overall recall: {overall_recall:6f}')\n",
    "\n",
    "plt.plot(percentages, recalls)\n",
    "plt.xlabel(\"Top percentage of positive examples selected\")\n",
    "plt.ylabel(\"Recall\")\n",
    "\n",
    "plt.title(\"Recall - Top percentage of positive examples selected Curve\")\n",
    "plt.show()\n",
    "\n",
    "# recall = recall_score(test_label, label_pred.round())\n",
    "# print(\"Recall:\", recall)"
   ]
  }
 ],
 "metadata": {
  "kernelspec": {
   "display_name": "lcj-gp",
   "language": "python",
   "name": "python3"
  },
  "language_info": {
   "codemirror_mode": {
    "name": "ipython",
    "version": 3
   },
   "file_extension": ".py",
   "mimetype": "text/x-python",
   "name": "python",
   "nbconvert_exporter": "python",
   "pygments_lexer": "ipython3",
   "version": "3.12.6"
  }
 },
 "nbformat": 4,
 "nbformat_minor": 2
}
